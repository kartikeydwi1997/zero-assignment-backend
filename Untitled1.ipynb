{
 "cells": [
  {
   "cell_type": "code",
   "execution_count": 1,
   "id": "07da72a1",
   "metadata": {},
   "outputs": [],
   "source": [
    "import pandas as pd"
   ]
  },
  {
   "cell_type": "code",
   "execution_count": 12,
   "id": "37d2ef16",
   "metadata": {},
   "outputs": [],
   "source": [
    "df = pd.read_csv(\"data/population_data.csv\")"
   ]
  },
  {
   "cell_type": "code",
   "execution_count": 33,
   "id": "4b1b6cf6",
   "metadata": {},
   "outputs": [],
   "source": [
    "def get_pop(zip_val):\n",
    "    if zip_val not in df['zipcode'].tolist():\n",
    "        return -1\n",
    "    \n",
    "    pop = df[df['zipcode'] == zip_val]['population'].tolist()[0]\n",
    "    \n",
    "    if pop == 0:\n",
    "        return -1\n",
    "    \n",
    "    return pop"
   ]
  },
  {
   "cell_type": "code",
   "execution_count": 36,
   "id": "53a61bec",
   "metadata": {},
   "outputs": [],
   "source": [
    "start_zip = 2215\n",
    "\n",
    "count_back_front = 0\n",
    "padding = 1\n",
    "vals = []\n",
    "while True:\n",
    "    pop = get_pop(start_zip+padding)\n",
    "    if pop != -1:\n",
    "        count_back_front += 1\n",
    "        vals.append([start_zip+padding, pop])\n",
    "    \n",
    "    pop = get_pop(start_zip-padding)\n",
    "    if pop != -1:\n",
    "        count_back_front += 1\n",
    "        vals.append([start_zip-padding, pop])\n",
    "        \n",
    "    if count_back_front >= 5:\n",
    "        break\n",
    "        \n",
    "    padding += 1"
   ]
  },
  {
   "cell_type": "code",
   "execution_count": 37,
   "id": "c125d0c4",
   "metadata": {
    "scrolled": true
   },
   "outputs": [
    {
     "data": {
      "text/plain": [
       "[[2210, 2461], [2199, 1260], [2191, 8292], [2190, 16886], [2189, 15076]]"
      ]
     },
     "execution_count": 37,
     "metadata": {},
     "output_type": "execute_result"
    }
   ],
   "source": [
    "vals"
   ]
  },
  {
   "cell_type": "code",
   "execution_count": null,
   "id": "dde075ad",
   "metadata": {},
   "outputs": [],
   "source": []
  }
 ],
 "metadata": {
  "kernelspec": {
   "display_name": "Python 3 (ipykernel)",
   "language": "python",
   "name": "python3"
  },
  "language_info": {
   "codemirror_mode": {
    "name": "ipython",
    "version": 3
   },
   "file_extension": ".py",
   "mimetype": "text/x-python",
   "name": "python",
   "nbconvert_exporter": "python",
   "pygments_lexer": "ipython3",
   "version": "3.9.8"
  }
 },
 "nbformat": 4,
 "nbformat_minor": 5
}
